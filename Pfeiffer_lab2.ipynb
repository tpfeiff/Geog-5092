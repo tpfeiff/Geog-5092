{
 "cells": [
  {
   "cell_type": "code",
   "execution_count": 1,
   "id": "51592bfd-9b9d-41e6-972f-a23f0d6f8a46",
   "metadata": {},
   "outputs": [],
   "source": [
    "import pandas as pd\n",
    "import geopandas as gpd\n",
    "from shapely.geometry import Point, LineString, Polygon\n",
    "import glob\n",
    "from rasterstats import zonal_stats"
   ]
  },
  {
   "cell_type": "code",
   "execution_count": 2,
   "id": "4454242d-2c91-4a8e-aa60-f51ff5e9d9a1",
   "metadata": {},
   "outputs": [
    {
     "name": "stdout",
     "output_type": "stream",
     "text": [
      "['..\\\\Lab2\\\\lab2_data\\\\data\\\\districts\\\\district01.txt', '..\\\\Lab2\\\\lab2_data\\\\data\\\\districts\\\\district05.txt', '..\\\\Lab2\\\\lab2_data\\\\data\\\\districts\\\\district06.txt']\n"
     ]
    }
   ],
   "source": [
    "#create one variable that contains all three district files\n",
    "dist_path = glob.glob(r'..\\Lab2\\lab2_data\\data\\districts\\*.txt')\n",
    "print (dist_path)\n",
    "polygons = {'district':[], 'num_coords':[], 'shape':[]}\n"
   ]
  },
  {
   "cell_type": "code",
   "execution_count": 3,
   "id": "c478eab3-8f2e-4116-819e-f24c2281d54c",
   "metadata": {},
   "outputs": [],
   "source": [
    "\n",
    "for dist in dist_path:\n",
    "    rdist = pd.read_csv(dist, delim_whitespace=True)\n",
    "    xy = list(zip(rdist['X'], rdist['Y']))\n",
    "    polys = Polygon(xy)\n",
    "    polygons['district'].append(dist[-6:-4])\n",
    "    polygons['num_coords'].append(len(xy))\n",
    "    polygons['shape'].append(polys)\n",
    "    \n",
    "polygons\n",
    "df = pd.DataFrame(polygons)\n",
    "gdf = gpd.GeoDataFrame(df, crs='EPSG:4326', geometry = 'shape')\n",
    "distshp = gdf.to_file('districts.shp')\n",
    "\n",
    "    \n",
    "    \n",
    "\n",
    "#    polygons['district'].append(dist[-6:-4]\n",
    "#    polygons['num_coords'].append(len(xy))\n",
    "#    polygons['shape'].append(polys)\n",
    "                                \n",
    "\n",
    "                                \n",
    "    \n",
    "    \n",
    "                      \n",
    "    \n",
    "    \n",
    "\n",
    "\n",
    "    \n",
    "    \n",
    "    \n",
    "    \n",
    "\n",
    "\n",
    "\n",
    "           \n",
    "\n",
    "        \n",
    "        \n",
    "        \n",
    "#for part 2 sums = list(x['sum']) #list of sums\n"
   ]
  },
  {
   "cell_type": "code",
   "execution_count": 4,
   "id": "e5b1d2f2-2c76-4e9c-ac88-421e00b6919b",
   "metadata": {},
   "outputs": [
    {
     "ename": "SyntaxError",
     "evalue": "unexpected EOF while parsing (Temp/ipykernel_17176/2521839997.py, line 27)",
     "output_type": "error",
     "traceback": [
      "\u001b[1;36m  File \u001b[1;32m\"C:\\Users\\MEng\\AppData\\Local\\Temp/ipykernel_17176/2521839997.py\"\u001b[1;36m, line \u001b[1;32m27\u001b[0m\n\u001b[1;33m    \u001b[0m\n\u001b[1;37m    ^\u001b[0m\n\u001b[1;31mSyntaxError\u001b[0m\u001b[1;31m:\u001b[0m unexpected EOF while parsing\n"
     ]
    }
   ],
   "source": [
    "#part 2\n",
    "final_dict = {'district':[], 'year':[], 'perc_cover':[]}\n",
    "\n",
    "tif = glob.glob(r'..\\Lab2\\lab2_data\\data\\agriculture\\*.tif')\n",
    "tif\n",
    "\n",
    "for r in tif:\n",
    "    x = pd.DataFrame(zonal_stats(distshp, r, stats = ['sum', 'count']\n",
    "     \n",
    "\n",
    "#for r in tif:\n",
    "    #x = pd.DataFrame(zonal_stats(distshp, r, stats = ['sum', 'count']\n",
    "        \n",
    "                                     \n",
    "        \n",
    "                                 \n",
    "                                 \n",
    "    \n",
    "\n",
    "\n",
    "\n",
    "\n",
    "#        sums = list(x['sum'])\n",
    "#        counts = list(x['count'])\n",
    "#        percent = [i / j for i, j in zip(sums, counts)]\n",
    "#        print (percent)         \n",
    "                    "
   ]
  },
  {
   "cell_type": "code",
   "execution_count": null,
   "id": "b8d151d5-823c-40ab-a37c-92d4d915d99c",
   "metadata": {},
   "outputs": [],
   "source": [
    "    x = pd.DataFrame(zonal_stats(distshp, r, stats = ['sum', 'count']\n",
    "    sums = list(x['sum'])\n",
    "    counts = list(x['count'])\n",
    "    percent = [i / j for i, j in zip(sums, counts)]\n",
    "    print (percent)         "
   ]
  },
  {
   "cell_type": "code",
   "execution_count": null,
   "id": "19857272-cf8a-4bc1-a6e5-7006ea3321be",
   "metadata": {},
   "outputs": [],
   "source": [
    "\n",
    "\n",
    "      "
   ]
  },
  {
   "cell_type": "code",
   "execution_count": null,
   "id": "0868f9e5-a3d8-413b-a7a6-dff66ee4676c",
   "metadata": {},
   "outputs": [],
   "source": []
  }
 ],
 "metadata": {
  "kernelspec": {
   "display_name": "Python 3 (ipykernel)",
   "language": "python",
   "name": "python3"
  },
  "language_info": {
   "codemirror_mode": {
    "name": "ipython",
    "version": 3
   },
   "file_extension": ".py",
   "mimetype": "text/x-python",
   "name": "python",
   "nbconvert_exporter": "python",
   "pygments_lexer": "ipython3",
   "version": "3.7.10"
  }
 },
 "nbformat": 4,
 "nbformat_minor": 5
}
